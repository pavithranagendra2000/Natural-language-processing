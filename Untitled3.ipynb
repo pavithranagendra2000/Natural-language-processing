{
 "cells": [
  {
   "cell_type": "code",
   "execution_count": 38,
   "id": "c9098484-fa07-4b62-8dcc-0ebfdf1b20c6",
   "metadata": {},
   "outputs": [
    {
     "name": "stderr",
     "output_type": "stream",
     "text": [
      "[nltk_data] Downloading package punkt to C:\\Users\\PAVITHRA\n",
      "[nltk_data]     N\\AppData\\Roaming\\nltk_data...\n",
      "[nltk_data]   Package punkt is already up-to-date!\n",
      "[nltk_data] Downloading package averaged_perceptron_tagger to\n",
      "[nltk_data]     C:\\Users\\PAVITHRA N\\AppData\\Roaming\\nltk_data...\n",
      "[nltk_data]   Package averaged_perceptron_tagger is already up-to-\n",
      "[nltk_data]       date!\n",
      "[nltk_data] Downloading package maxent_ne_chunker to C:\\Users\\PAVITHRA\n",
      "[nltk_data]     N\\AppData\\Roaming\\nltk_data...\n",
      "[nltk_data]   Package maxent_ne_chunker is already up-to-date!\n",
      "[nltk_data] Downloading package words to C:\\Users\\PAVITHRA\n",
      "[nltk_data]     N\\AppData\\Roaming\\nltk_data...\n",
      "[nltk_data]   Unzipping corpora\\words.zip.\n"
     ]
    },
    {
     "data": {
      "text/plain": [
       "True"
      ]
     },
     "execution_count": 38,
     "metadata": {},
     "output_type": "execute_result"
    }
   ],
   "source": [
    "import nltk\n",
    "nltk.download('punkt')\n",
    "nltk.download('averaged_perceptron_tagger')\n",
    "nltk.download('maxent_ne_chunker')\n",
    "nltk.download('words')"
   ]
  },
  {
   "cell_type": "code",
   "execution_count": 7,
   "id": "430ba21a-c438-4544-b166-45f24ffb6b32",
   "metadata": {},
   "outputs": [],
   "source": [
    "import nltk.corpus"
   ]
  },
  {
   "cell_type": "code",
   "execution_count": 9,
   "id": "7852f6ac-b0b2-44db-87da-0f16d1c51287",
   "metadata": {},
   "outputs": [],
   "source": [
    "from nltk.tokenize import word_tokenize"
   ]
  },
  {
   "cell_type": "code",
   "execution_count": 10,
   "id": "c1cafadd-3cbe-41af-bfb2-4ab36979d25a",
   "metadata": {},
   "outputs": [],
   "source": [
    "chess=\"samay raina is the best chess streamer in the world\""
   ]
  },
  {
   "cell_type": "code",
   "execution_count": 11,
   "id": "da56ae39-016f-4df2-bf9d-002dd9a0fa60",
   "metadata": {},
   "outputs": [
    {
     "data": {
      "text/plain": [
       "['samay',\n",
       " 'raina',\n",
       " 'is',\n",
       " 'the',\n",
       " 'best',\n",
       " 'chess',\n",
       " 'streamer',\n",
       " 'in',\n",
       " 'the',\n",
       " 'world']"
      ]
     },
     "execution_count": 11,
     "metadata": {},
     "output_type": "execute_result"
    }
   ],
   "source": [
    "word_tokenize(chess)"
   ]
  },
  {
   "cell_type": "code",
   "execution_count": 12,
   "id": "7cccb9eb-6b8c-43a9-8376-b362d08fa20e",
   "metadata": {},
   "outputs": [],
   "source": [
    "from nltk.tokenize import sent_tokenize"
   ]
  },
  {
   "cell_type": "code",
   "execution_count": 13,
   "id": "af02b23a-94d0-474c-bcec-d81e82fee701",
   "metadata": {},
   "outputs": [],
   "source": [
    "chess2 = \"Samay Raina is the best chess streamer in the world. Sagar Shah is the best chess coach in the world\""
   ]
  },
  {
   "cell_type": "code",
   "execution_count": 14,
   "id": "1c04f251-74f5-4949-a316-c4d0ee8677ba",
   "metadata": {},
   "outputs": [
    {
     "data": {
      "text/plain": [
       "['Samay Raina is the best chess streamer in the world.',\n",
       " 'Sagar Shah is the best chess coach in the world']"
      ]
     },
     "execution_count": 14,
     "metadata": {},
     "output_type": "execute_result"
    }
   ],
   "source": [
    "sent_tokenize(chess2)"
   ]
  },
  {
   "cell_type": "code",
   "execution_count": 15,
   "id": "992591f8-6ab0-4c03-8a4d-5e3fa8c8dd8b",
   "metadata": {},
   "outputs": [
    {
     "data": {
      "text/plain": [
       "10"
      ]
     },
     "execution_count": 15,
     "metadata": {},
     "output_type": "execute_result"
    }
   ],
   "source": [
    "len(word_tokenize(chess))"
   ]
  },
  {
   "cell_type": "code",
   "execution_count": 16,
   "id": "4287a44a-22c8-4b4d-8d09-b4177a5184c5",
   "metadata": {},
   "outputs": [],
   "source": [
    "astronaut = \"Can anybody hear me or am I talking to myself? My mind is running empty in the search for someone else\""
   ]
  },
  {
   "cell_type": "code",
   "execution_count": 17,
   "id": "1b9c0152-794c-4856-940d-7894a4880898",
   "metadata": {},
   "outputs": [],
   "source": [
    "astronaut_token=(word_tokenize(astronaut))"
   ]
  },
  {
   "cell_type": "code",
   "execution_count": 18,
   "id": "8ffbe520-85fe-4d70-ab3e-68ad61c906c4",
   "metadata": {},
   "outputs": [
    {
     "data": {
      "text/plain": [
       "[('Can', 'anybody'),\n",
       " ('anybody', 'hear'),\n",
       " ('hear', 'me'),\n",
       " ('me', 'or'),\n",
       " ('or', 'am'),\n",
       " ('am', 'I'),\n",
       " ('I', 'talking'),\n",
       " ('talking', 'to'),\n",
       " ('to', 'myself'),\n",
       " ('myself', '?'),\n",
       " ('?', 'My'),\n",
       " ('My', 'mind'),\n",
       " ('mind', 'is'),\n",
       " ('is', 'running'),\n",
       " ('running', 'empty'),\n",
       " ('empty', 'in'),\n",
       " ('in', 'the'),\n",
       " ('the', 'search'),\n",
       " ('search', 'for'),\n",
       " ('for', 'someone'),\n",
       " ('someone', 'else')]"
      ]
     },
     "execution_count": 18,
     "metadata": {},
     "output_type": "execute_result"
    }
   ],
   "source": [
    "list(nltk.bigrams(astronaut_token))"
   ]
  },
  {
   "cell_type": "code",
   "execution_count": 19,
   "id": "9c77be11-ddbc-4eff-9a69-02b4ac3e0a3a",
   "metadata": {},
   "outputs": [
    {
     "data": {
      "text/plain": [
       "[('Can', 'anybody', 'hear'),\n",
       " ('anybody', 'hear', 'me'),\n",
       " ('hear', 'me', 'or'),\n",
       " ('me', 'or', 'am'),\n",
       " ('or', 'am', 'I'),\n",
       " ('am', 'I', 'talking'),\n",
       " ('I', 'talking', 'to'),\n",
       " ('talking', 'to', 'myself'),\n",
       " ('to', 'myself', '?'),\n",
       " ('myself', '?', 'My'),\n",
       " ('?', 'My', 'mind'),\n",
       " ('My', 'mind', 'is'),\n",
       " ('mind', 'is', 'running'),\n",
       " ('is', 'running', 'empty'),\n",
       " ('running', 'empty', 'in'),\n",
       " ('empty', 'in', 'the'),\n",
       " ('in', 'the', 'search'),\n",
       " ('the', 'search', 'for'),\n",
       " ('search', 'for', 'someone'),\n",
       " ('for', 'someone', 'else')]"
      ]
     },
     "execution_count": 19,
     "metadata": {},
     "output_type": "execute_result"
    }
   ],
   "source": [
    "list(nltk.trigrams(astronaut_token))"
   ]
  },
  {
   "cell_type": "code",
   "execution_count": 20,
   "id": "8f074bb9-9ca0-4e10-8112-685699c085ef",
   "metadata": {},
   "outputs": [
    {
     "data": {
      "text/plain": [
       "[('Can', 'anybody', 'hear', 'me', 'or'),\n",
       " ('anybody', 'hear', 'me', 'or', 'am'),\n",
       " ('hear', 'me', 'or', 'am', 'I'),\n",
       " ('me', 'or', 'am', 'I', 'talking'),\n",
       " ('or', 'am', 'I', 'talking', 'to'),\n",
       " ('am', 'I', 'talking', 'to', 'myself'),\n",
       " ('I', 'talking', 'to', 'myself', '?'),\n",
       " ('talking', 'to', 'myself', '?', 'My'),\n",
       " ('to', 'myself', '?', 'My', 'mind'),\n",
       " ('myself', '?', 'My', 'mind', 'is'),\n",
       " ('?', 'My', 'mind', 'is', 'running'),\n",
       " ('My', 'mind', 'is', 'running', 'empty'),\n",
       " ('mind', 'is', 'running', 'empty', 'in'),\n",
       " ('is', 'running', 'empty', 'in', 'the'),\n",
       " ('running', 'empty', 'in', 'the', 'search'),\n",
       " ('empty', 'in', 'the', 'search', 'for'),\n",
       " ('in', 'the', 'search', 'for', 'someone'),\n",
       " ('the', 'search', 'for', 'someone', 'else')]"
      ]
     },
     "execution_count": 20,
     "metadata": {},
     "output_type": "execute_result"
    }
   ],
   "source": [
    "list(nltk.ngrams(astronaut_token,5))"
   ]
  },
  {
   "cell_type": "code",
   "execution_count": 50,
   "id": "135e2b63-1092-42ce-b9b3-1238215a2b4c",
   "metadata": {},
   "outputs": [],
   "source": [
    "from nltk.stem import PorterStemmer"
   ]
  },
  {
   "cell_type": "code",
   "execution_count": 51,
   "id": "1d9f7a20-982c-4d4a-9385-d85d55363af5",
   "metadata": {},
   "outputs": [],
   "source": [
    "my_stem = PorterStemmer()"
   ]
  },
  {
   "cell_type": "code",
   "execution_count": 23,
   "id": "a17b2994-ed85-4e31-b6d1-b6f455ca6ebb",
   "metadata": {},
   "outputs": [
    {
     "data": {
      "text/plain": [
       "'eat'"
      ]
     },
     "execution_count": 23,
     "metadata": {},
     "output_type": "execute_result"
    }
   ],
   "source": [
    "my_stem.stem(\"eating\")"
   ]
  },
  {
   "cell_type": "code",
   "execution_count": 24,
   "id": "b995c2fa-b836-4777-93cf-4339614ee068",
   "metadata": {},
   "outputs": [
    {
     "data": {
      "text/plain": [
       "'go'"
      ]
     },
     "execution_count": 24,
     "metadata": {},
     "output_type": "execute_result"
    }
   ],
   "source": [
    "my_stem.stem(\"going\")"
   ]
  },
  {
   "cell_type": "code",
   "execution_count": 25,
   "id": "08905ea6-556b-4a8c-b9be-2f0e86bc7fd5",
   "metadata": {},
   "outputs": [
    {
     "data": {
      "text/plain": [
       "'shop'"
      ]
     },
     "execution_count": 25,
     "metadata": {},
     "output_type": "execute_result"
    }
   ],
   "source": [
    "my_stem.stem(\"shopping\")"
   ]
  },
  {
   "cell_type": "code",
   "execution_count": 26,
   "id": "8151182d-023f-4bb7-a083-b30c3ad1b663",
   "metadata": {},
   "outputs": [],
   "source": [
    "tom =\"Tom Hanks is the best actor in the world\""
   ]
  },
  {
   "cell_type": "code",
   "execution_count": 27,
   "id": "75f22f54-444b-4a9b-871d-6dcb3a22b8f6",
   "metadata": {},
   "outputs": [],
   "source": [
    "tom_token = word_tokenize(tom)"
   ]
  },
  {
   "cell_type": "code",
   "execution_count": 30,
   "id": "465ae08a-ffde-489d-aa10-86b8cfa8f727",
   "metadata": {},
   "outputs": [
    {
     "data": {
      "text/plain": [
       "[('Tom', 'NNP'),\n",
       " ('Hanks', 'NNP'),\n",
       " ('is', 'VBZ'),\n",
       " ('the', 'DT'),\n",
       " ('best', 'JJS'),\n",
       " ('actor', 'NN'),\n",
       " ('in', 'IN'),\n",
       " ('the', 'DT'),\n",
       " ('world', 'NN')]"
      ]
     },
     "execution_count": 30,
     "metadata": {},
     "output_type": "execute_result"
    }
   ],
   "source": [
    "nltk.pos_tag(tom_token)"
   ]
  },
  {
   "cell_type": "code",
   "execution_count": 31,
   "id": "c87a6fd1-e81d-4cd6-86ec-f0c4c18cde73",
   "metadata": {},
   "outputs": [],
   "source": [
    "from nltk import ne_chunk"
   ]
  },
  {
   "cell_type": "code",
   "execution_count": 32,
   "id": "7f35667d-d4ae-47eb-96d4-e062c2c6d58f",
   "metadata": {},
   "outputs": [],
   "source": [
    "president = \"Barack Obama was the 44th President of America\""
   ]
  },
  {
   "cell_type": "code",
   "execution_count": 33,
   "id": "02047ebd-659a-4d14-a5bf-accc43488548",
   "metadata": {},
   "outputs": [],
   "source": [
    "president_token = word_tokenize(president)"
   ]
  },
  {
   "cell_type": "code",
   "execution_count": 34,
   "id": "25eabcfe-097a-4a47-be85-9155053decda",
   "metadata": {},
   "outputs": [],
   "source": [
    "president_pos = nltk.pos_tag(president_token)"
   ]
  },
  {
   "cell_type": "code",
   "execution_count": 39,
   "id": "23add1f4-6283-4ef4-b293-479eca4a18e4",
   "metadata": {},
   "outputs": [
    {
     "name": "stdout",
     "output_type": "stream",
     "text": [
      "(S\n",
      "  (PERSON Barack/NNP)\n",
      "  (PERSON Obama/NNP)\n",
      "  was/VBD\n",
      "  the/DT\n",
      "  44th/JJ\n",
      "  President/NNP\n",
      "  of/IN\n",
      "  (GPE America/NNP))\n"
     ]
    }
   ],
   "source": [
    "print(ne_chunk(president_pos))"
   ]
  },
  {
   "cell_type": "code",
   "execution_count": 44,
   "id": "a74c0634-883a-4993-991e-b7dd71dbbd0b",
   "metadata": {},
   "outputs": [
    {
     "name": "stdout",
     "output_type": "stream",
     "text": [
      "Collecting playsound\n",
      "  Downloading playsound-1.3.0.tar.gz (7.7 kB)\n",
      "  Preparing metadata (setup.py): started\n",
      "  Preparing metadata (setup.py): finished with status 'done'\n",
      "Building wheels for collected packages: playsound\n",
      "  Building wheel for playsound (setup.py): started\n",
      "  Building wheel for playsound (setup.py): finished with status 'done'\n",
      "  Created wheel for playsound: filename=playsound-1.3.0-py3-none-any.whl size=7043 sha256=cbabdc0868b8c196490d785aa418b1a92a0132408ad08d5563cdc87955aac7d2\n",
      "  Stored in directory: c:\\users\\pavithra n\\appdata\\local\\pip\\cache\\wheels\\50\\98\\42\\62753a9e1fb97579a0ce2f84f7db4c21c09d03bb2091e6cef4\n",
      "Successfully built playsound\n",
      "Installing collected packages: playsound\n",
      "Successfully installed playsound-1.3.0\n"
     ]
    }
   ],
   "source": [
    "!pip install playsound"
   ]
  },
  {
   "cell_type": "code",
   "execution_count": 46,
   "id": "8e1f7d3a-e62f-4206-a92f-c4e96934bd60",
   "metadata": {},
   "outputs": [
    {
     "name": "stdout",
     "output_type": "stream",
     "text": [
      "Collecting gtts\n",
      "  Downloading gTTS-2.5.2-py3-none-any.whl.metadata (4.1 kB)\n",
      "Requirement already satisfied: requests<3,>=2.27 in c:\\users\\pavithra n\\anaconda3\\lib\\site-packages (from gtts) (2.31.0)\n",
      "Requirement already satisfied: click<8.2,>=7.1 in c:\\users\\pavithra n\\anaconda3\\lib\\site-packages (from gtts) (8.1.7)\n",
      "Requirement already satisfied: colorama in c:\\users\\pavithra n\\anaconda3\\lib\\site-packages (from click<8.2,>=7.1->gtts) (0.4.6)\n",
      "Requirement already satisfied: charset-normalizer<4,>=2 in c:\\users\\pavithra n\\anaconda3\\lib\\site-packages (from requests<3,>=2.27->gtts) (2.0.4)\n",
      "Requirement already satisfied: idna<4,>=2.5 in c:\\users\\pavithra n\\anaconda3\\lib\\site-packages (from requests<3,>=2.27->gtts) (3.4)\n",
      "Requirement already satisfied: urllib3<3,>=1.21.1 in c:\\users\\pavithra n\\anaconda3\\lib\\site-packages (from requests<3,>=2.27->gtts) (2.0.7)\n",
      "Requirement already satisfied: certifi>=2017.4.17 in c:\\users\\pavithra n\\anaconda3\\lib\\site-packages (from requests<3,>=2.27->gtts) (2024.2.2)\n",
      "Downloading gTTS-2.5.2-py3-none-any.whl (29 kB)\n",
      "Installing collected packages: gtts\n",
      "Successfully installed gtts-2.5.2\n",
      "Note: you may need to restart the kernel to use updated packages.\n"
     ]
    }
   ],
   "source": [
    "pip install gtts"
   ]
  },
  {
   "cell_type": "code",
   "execution_count": 49,
   "id": "59f2a9ab-4012-43c4-b525-f7be161e8b4b",
   "metadata": {},
   "outputs": [
    {
     "data": {
      "text/html": [
       "\n",
       "                <audio  controls=\"controls\" autoplay=\"autoplay\">\n",
       "                    <source src=\"data:audio/wav;base64,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\" type=\"audio/wav\" />\n",
       "                    Your browser does not support the audio element.\n",
       "                </audio>\n",
       "              "
      ],
      "text/plain": [
       "<IPython.lib.display.Audio object>"
      ]
     },
     "execution_count": 49,
     "metadata": {},
     "output_type": "execute_result"
    }
   ],
   "source": [
    "from gtts import gTTS\n",
    "from IPython.display import Audio\n",
    "\n",
    "# Create a gTTS object\n",
    "tts = gTTS(\"hello pavithra you are doing a great job!, your main design related to this project is to convert a text based data to a speech data\")\n",
    "\n",
    "# Save the audio file\n",
    "tts.save('1.wav')\n",
    "\n",
    "# Play the audio file in Jupyter notebook\n",
    "sound_file = '1.wav'\n",
    "Audio(sound_file, autoplay=True)\n"
   ]
  }
 ],
 "metadata": {
  "kernelspec": {
   "display_name": "Python 3 (ipykernel)",
   "language": "python",
   "name": "python3"
  },
  "language_info": {
   "codemirror_mode": {
    "name": "ipython",
    "version": 3
   },
   "file_extension": ".py",
   "mimetype": "text/x-python",
   "name": "python",
   "nbconvert_exporter": "python",
   "pygments_lexer": "ipython3",
   "version": "3.11.7"
  }
 },
 "nbformat": 4,
 "nbformat_minor": 5
}
